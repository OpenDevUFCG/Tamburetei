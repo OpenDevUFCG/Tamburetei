{
 "cells": [
  {
   "cell_type": "markdown",
   "metadata": {},
   "source": [
    "# Estruturas de Condição"
   ]
  },
  {
   "cell_type": "markdown",
   "metadata": {},
   "source": [
    "Uma estrutura de condição verifica uma condição, se ela for verdadeira, irá executar um comando ou um bloco de código. Estruturas de condição são usadas para controlar diversos fluxos que uma aplicação pode ter.\n",
    "\n",
    "```\n",
    "SE condição\n",
    "ENTAO comando\n",
    "```\n",
    "\n",
    "Para criamos condições existem **operadores** de comparação, que nos permitem comparar características de dois valores, podendo retornar dois únicos valores possívels: *VERDADEIRO (**TRUE**)* ou *FALSO (**FALSE**)*.\n",
    "\n",
    "| Operador | Significado  | Ex. que retorna verdadeiro  | Ex. que retorna falso  \n",
    "| :------: | :------:| :-----:|:-----:|\n",
    "| **==**| Verifica a igualdade entre dois valores | 2 **==** 2 | 2 **==** 3\n",
    "| **!=**    | Verifica a desigualdade entre dois valores |  2 **!=** 3 | 2 **!=** 2\n",
    "| **>**      | Verifica se o primeiro valor é maior que o segundo |  3 **>** 2 | 2 **>** 3 \n",
    "| **<**      | Verifica se o primeiro valor é menor que o segundo |  2 **<** 3 | 3 **<** 2 \n",
    "| **>=**      | Verifica se o primeiro valor é maior ou igual que o segundo |  2 **>=** 2 | 2 **>=** 3\n",
    "| **<=**      | Verifica se o primeiro valor é menor ou igual que o segundo |  2 **<=** 2 | 3 **<=** 2\n",
    "| **<=**      | Verifica se o primeiro valor é menor ou igual que o segundo |  2 **<=** 2 | 3 **<=** 2\n",
    "| **in**      | Verifica se o primeiro valor está dentro do segundo |  \"a\" **in** \"banana | \"o\" **in** \"banana\""
   ]
  },
  {
   "cell_type": "markdown",
   "metadata": {},
   "source": [
    "## Sintaxe\n",
    "\n",
    "Em Python, para representar o *se*, utilizamos *if* seguido da condição e *dois pontos*, embaixo colocamos o código de maneira *identada* que será executado caso a condição seja verdadeira.\n",
    "\n",
    "```python\n",
    "if (<condicao>):\n",
    "    <codigo_que_sera_executado_se_for_VERDADEIRO>\n",
    "```\n",
    "\n",
    "### Estrutura condicional simples\n",
    "\n",
    "Na simples temos apenar uma condição, e assim apenas um fluxo a ser seguido\n",
    "\n",
    "```python\n",
    "if (<condicao>):\n",
    "    <codigo_que_sera_executado_se_for_VERDADEIRO>\n",
    "```\n",
    "\n",
    "### Estrutura condicional composta\n",
    "\n",
    "Na composta, temos uma condição a mais que é o **ELSE**, que indica o que será executado caso a condicao anterior for falsa.\n",
    "\n",
    "```python\n",
    "if (<condicao>):\n",
    "    <codigo_que_sera_executado_se_for_VERDADEIRO>\n",
    "else:\n",
    "    <codigo_que_sera_executado_se_for_FALSO>\n",
    "```\n",
    "\n",
    "### Estrutura condicional aninhada\n",
    "Na condição aninhada são várias condições que acompanham uma da outra, onde se tem o *IF*, **ELIF** e *ELSE*. O **ELIF**, quer dizer \"Caso a condição anterior não tenha sido satisfeita, verifique essa.\"\n",
    "\n",
    "```python\n",
    "if (<condicao1>):\n",
    "    <codigo_que_sera_executado_se_for_VERDADEIRO>\n",
    "elif (<condicao2>):\n",
    "    <codigo_que_sera_executado_se_condicao1_for_falsa_e_condicao2_verdade> \n",
    "else:\n",
    "    <codigo_que_sera_executado_se_as_duas_condicoes_forem_falsas>\n",
    "```\n",
    "\n",
    "Palavra-chave | Significado\n",
    ":---: | :---:\n",
    "**if** | Se\n",
    "**else** | Se não...\n",
    "**elif** | Se não e se ..."
   ]
  },
  {
   "cell_type": "markdown",
   "metadata": {},
   "source": [
    "## Exemplos"
   ]
  },
  {
   "cell_type": "markdown",
   "metadata": {},
   "source": [
    "### Se variável é igual a 2\n",
    "\n",
    "Nesse exemplos iremos declarar duas variáveis e iremos montar uma estrutura de condição simples para imprimir quem é igual a 2 e quem não é."
   ]
  },
  {
   "cell_type": "markdown",
   "metadata": {},
   "source": [
    "Declarando as variáveis:"
   ]
  },
  {
   "cell_type": "code",
   "execution_count": 1,
   "metadata": {},
   "outputs": [],
   "source": [
    "a = 4\n",
    "b = 2"
   ]
  },
  {
   "cell_type": "markdown",
   "metadata": {},
   "source": [
    "Verificando com **a**:"
   ]
  },
  {
   "cell_type": "code",
   "execution_count": 2,
   "metadata": {},
   "outputs": [
    {
     "name": "stdout",
     "output_type": "stream",
     "text": [
      "Não é igual a 2\n"
     ]
    }
   ],
   "source": [
    "if (a == 2):\n",
    "    print(\"É igual a 2\")\n",
    "else: \n",
    "    print(\"Não é igual a 2\")"
   ]
  },
  {
   "cell_type": "markdown",
   "metadata": {},
   "source": [
    "Verificando com **b**:"
   ]
  },
  {
   "cell_type": "code",
   "execution_count": 3,
   "metadata": {},
   "outputs": [
    {
     "name": "stdout",
     "output_type": "stream",
     "text": [
      "É igual a 2\n"
     ]
    }
   ],
   "source": [
    "if (b == 2):\n",
    "    print(\"É igual a 2\")\n",
    "else: \n",
    "    print(\"Não é igual a 2\")"
   ]
  },
  {
   "cell_type": "markdown",
   "metadata": {},
   "source": [
    "### Verificando se é menor de idade ou idoso\n",
    "\n",
    "Nesse exemplos iremos declarar uma variável **idade** e iremos verificar se é menor de idade ou um idoso(mais de 65 anos), ou caso não seja nenhum dos dois."
   ]
  },
  {
   "cell_type": "code",
   "execution_count": 4,
   "metadata": {},
   "outputs": [
    {
     "name": "stdout",
     "output_type": "stream",
     "text": [
      "Não é nem menor de idade, e nem idoso\n"
     ]
    }
   ],
   "source": [
    "idade = 40\n",
    "\n",
    "if(idade < 18):\n",
    "    print(\"É menor de idade\")\n",
    "elif(idade >= 65):\n",
    "    print(\"É maior de idade\")\n",
    "else:\n",
    "    print(\"Não é nem menor de idade, e nem idoso\")"
   ]
  }
 ],
 "metadata": {
  "kernelspec": {
   "display_name": "Python 3",
   "language": "python",
   "name": "python3"
  },
  "language_info": {
   "codemirror_mode": {
    "name": "ipython",
    "version": 3
   },
   "file_extension": ".py",
   "mimetype": "text/x-python",
   "name": "python",
   "nbconvert_exporter": "python",
   "pygments_lexer": "ipython3",
   "version": "3.7.2"
  }
 },
 "nbformat": 4,
 "nbformat_minor": 2
}
