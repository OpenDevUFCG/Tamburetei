{
 "cells": [
  {
   "cell_type": "markdown",
   "metadata": {},
   "source": [
    "# Listas"
   ]
  },
  {
   "cell_type": "markdown",
   "metadata": {},
   "source": [
    "Durante o desenvolvimento de software, independente de plataforma ou linguagem, é comum a necessidade de lidar com estruturas de dados, como listas. Por exemplo, podem ser empregadas para armazenar dados como seus contatos do zap, tarefas, etc.\n",
    "\n",
    "Os itens em uma lista são organizados de forma linear, na qual cada um pode ser acessado a partir de um índice, que representa sua posição na coleção (iniciando em zero).\n",
    "\n",
    "## Estrutura\n",
    "\n",
    "É muito importante entender como os dados são armazenados nessa estrutura, por isso, observe abaixo a ilustração desse modelo.\n",
    "![Estrutura de uma lista](https://arquivo.devmedia.com.br/artigos/Fabio_Spak/ListasPyhon/ListasPython1.png)\n",
    "\n",
    "As listas em Python, ao contrário de linguagens como Java, podem armazenar diversos elementos de tipos que podem ser diferentes, como foi possível perceber na ilustração acima, na qual a lista está guardando dois valores do tipo *string* e dois valores *inteiros*.\n",
    "\n",
    "## Criação\n",
    "\n",
    "Em Python, uma lista é representada como uma sequência de elementos separados por vírgula e dentro de colchetes [], assim, uma lista vazia, por exemplo, pode ser representada por colchetes sem nenhum conteúdo.\n",
    "\n",
    "Para iniciar uma lista vazia, fazemos:"
   ]
  },
  {
   "cell_type": "code",
   "execution_count": 1,
   "metadata": {},
   "outputs": [
    {
     "name": "stdout",
     "output_type": "stream",
     "text": [
      "[]\n"
     ]
    }
   ],
   "source": [
    "minhaLista = []\n",
    "print(minhaLista)"
   ]
  },
  {
   "cell_type": "markdown",
   "metadata": {},
   "source": [
    "Para inicializar uma lista com alguns elementos, fazemos:"
   ]
  },
  {
   "cell_type": "code",
   "execution_count": 2,
   "metadata": {},
   "outputs": [
    {
     "name": "stdout",
     "output_type": "stream",
     "text": [
      "['Lucas', 'Thayanne', 'Fanny', 'Matheus']\n"
     ]
    }
   ],
   "source": [
    "minhaLista = [\"Lucas\", \"Thayanne\", \"Fanny\", \"Matheus\"]\n",
    "print(minhaLista)"
   ]
  },
  {
   "cell_type": "markdown",
   "metadata": {},
   "source": [
    "Observe abaixo a lista que acabamos de criar de uma maneira mais detalhada:\n",
    "\n",
    "| Posição  | Conteúdo      |\n",
    "|:-------: | :-----------: |\n",
    "| **0**    | \"Lucas\"       |\n",
    "| **1**    | \"Thayanne\"    |\n",
    "| **2**    | \"Fanny\"       |\n",
    "| **3**    | \"Matheus\"     |\n",
    "\n",
    "## Manipulação\n",
    "\n",
    "A lista que acabamos de criar é composta por quatro elementos, cujos índices variam de zero a três. Por exemplo, o primeiro objeto, no índice 0, é a string \"Lucas\". Tendo em mente essa organização interna, podemos acessar cada um dos elementos utilizando a seguinte sintaxe:"
   ]
  },
  {
   "cell_type": "code",
   "execution_count": 3,
   "metadata": {},
   "outputs": [
    {
     "data": {
      "text/plain": [
       "'Lucas'"
      ]
     },
     "execution_count": 3,
     "metadata": {},
     "output_type": "execute_result"
    }
   ],
   "source": [
    "minhaLista[0]"
   ]
  },
  {
   "cell_type": "code",
   "execution_count": 4,
   "metadata": {},
   "outputs": [
    {
     "data": {
      "text/plain": [
       "'Thayanne'"
      ]
     },
     "execution_count": 4,
     "metadata": {},
     "output_type": "execute_result"
    }
   ],
   "source": [
    "minhaLista[1]"
   ]
  },
  {
   "cell_type": "markdown",
   "metadata": {},
   "source": [
    "Nos dois exemplos acima, acessamos as posições 0 e 1, respectivamente, da nossa lista criada mais acima. Os resultados foram \"Lucas\" e \"Thayanne\", pois estes são os elementos correspondentes aos respectivos índices na lista.\n",
    "\n",
    "Podemos, inclusive, alterar o valor de um dos elementos da lista acessando pelo seu valor, como mostrado no exemplo abaixo:"
   ]
  },
  {
   "cell_type": "code",
   "execution_count": 5,
   "metadata": {},
   "outputs": [
    {
     "name": "stdout",
     "output_type": "stream",
     "text": [
      "Antes: Matheus\n",
      "Depois: Julio\n"
     ]
    }
   ],
   "source": [
    "print(\"Antes: \" + minhaLista[3]) # imprimindo o valor antes da alteração\n",
    "\n",
    "minhaLista[3] = \"Julio\"\n",
    "\n",
    "print(\"Depois: \" + minhaLista[3]) # imprimindo o valor depois da alteração"
   ]
  },
  {
   "cell_type": "markdown",
   "metadata": {},
   "source": [
    "### Comprimento de uma lista\n",
    "\n",
    "Para sabermos o comprimento de uma lista, usamos a seguinte sintaxe:"
   ]
  },
  {
   "cell_type": "code",
   "execution_count": 6,
   "metadata": {},
   "outputs": [
    {
     "data": {
      "text/plain": [
       "4"
      ]
     },
     "execution_count": 6,
     "metadata": {},
     "output_type": "execute_result"
    }
   ],
   "source": [
    "len(minhaLista)"
   ]
  },
  {
   "cell_type": "markdown",
   "metadata": {},
   "source": [
    "A função *len*, como mostra o exemplo acima, retorna o valor 4, indicando que o tamanho da lista que criamos nos exemplos anteriores possui 4 elementos."
   ]
  },
  {
   "cell_type": "markdown",
   "metadata": {},
   "source": [
    "### Concatenação e multiplicação\n",
    "\n",
    "É possível, também, concatenar listas por meio do operador `+` e multiplicá-las por **um inteiro *n***, a fim de gerar ***n*** cópias dos itens da sua lista, por meio do operador `*`.\n",
    "\n",
    "**Detalhe**: você já concatenava listas através da concatenação de strings, pois elas nada mais são do que listas de caracteres.\n",
    "\n",
    "Exemplo de concatenação de listas:"
   ]
  },
  {
   "cell_type": "code",
   "execution_count": 7,
   "metadata": {},
   "outputs": [
    {
     "name": "stdout",
     "output_type": "stream",
     "text": [
      "['Lucas', 'Thayanne', 'Fanny', 'Julio', 'Juliano', 'Roberta']\n"
     ]
    }
   ],
   "source": [
    "segundaLista = [\"Juliano\", \"Roberta\"]\n",
    "\n",
    "# imprimindo o valor dessas duas listas concatenadas, sem alterar o conteúdo de nenhuma das duas.\n",
    "print(minhaLista + segundaLista)"
   ]
  },
  {
   "cell_type": "markdown",
   "metadata": {},
   "source": [
    "Exemplo de multiplicação por inteiro de uma lista:"
   ]
  },
  {
   "cell_type": "code",
   "execution_count": 8,
   "metadata": {},
   "outputs": [
    {
     "data": {
      "text/plain": [
       "['Lucas',\n",
       " 'Thayanne',\n",
       " 'Fanny',\n",
       " 'Julio',\n",
       " 'Lucas',\n",
       " 'Thayanne',\n",
       " 'Fanny',\n",
       " 'Julio',\n",
       " 'Lucas',\n",
       " 'Thayanne',\n",
       " 'Fanny',\n",
       " 'Julio']"
      ]
     },
     "execution_count": 8,
     "metadata": {},
     "output_type": "execute_result"
    }
   ],
   "source": [
    "minhaLista * 3 # multiplicando a lista criada nos exemplos por 3"
   ]
  },
  {
   "cell_type": "markdown",
   "metadata": {},
   "source": [
    "### Verificando a existência de elementos em uma lista\n",
    "\n",
    "Em vários casos, é necessário verificar se um elemento está contido dentro de uma lista, para isso Python oferece o operador `in`, que indicará `True` caso o elemento exista dentro da lista, e `False` caso contrário. Por exemplo:"
   ]
  },
  {
   "cell_type": "code",
   "execution_count": 9,
   "metadata": {},
   "outputs": [
    {
     "data": {
      "text/plain": [
       "True"
      ]
     },
     "execution_count": 9,
     "metadata": {},
     "output_type": "execute_result"
    }
   ],
   "source": [
    "\"Lucas\" in minhaLista # A string \"Lucas\" existe na lista."
   ]
  },
  {
   "cell_type": "code",
   "execution_count": 10,
   "metadata": {},
   "outputs": [
    {
     "data": {
      "text/plain": [
       "False"
      ]
     },
     "execution_count": 10,
     "metadata": {},
     "output_type": "execute_result"
    }
   ],
   "source": [
    "\"Guilherme\" in minhaLista # A string \"Guilherme\" não existe na lista."
   ]
  },
  {
   "cell_type": "markdown",
   "metadata": {},
   "source": [
    "**Detalhe**: em alguns momentos das disciplinas de *Programação 1* e *Laboratório de Programação 1* da UFCG, você terá que implementar seu próprio *in* para identificar se um elemento está contido dentro da lista, pois em várias linguagens de programação não existem implementações de algo similar, e isso é uma das várias facilidades que Python oferece."
   ]
  },
  {
   "cell_type": "markdown",
   "metadata": {},
   "source": [
    "## Iteração\n",
    "\n",
    "Como você já sabe, o *for* é uma ferramenta muito poderosa e muito característica de Python. Com ele, podemos \"varrer\" listas, tuplas ou dicionários.\n",
    "\n",
    "Para iterar sobre uma lista, usa-se a sintaxe padrão do for:\n",
    "\n",
    "```python\n",
    "for <var> in <lista>:\n",
    "    <bloco_de_execucao>\n",
    "```\n",
    "\n",
    "Observe o exemplo abaixo:"
   ]
  },
  {
   "cell_type": "code",
   "execution_count": 11,
   "metadata": {},
   "outputs": [
    {
     "name": "stdout",
     "output_type": "stream",
     "text": [
      "Lucas\n",
      "Thayanne\n",
      "Fanny\n",
      "Julio\n"
     ]
    }
   ],
   "source": [
    "for item in minhaLista:\n",
    "    print(item)"
   ]
  },
  {
   "cell_type": "markdown",
   "metadata": {},
   "source": [
    "O for itera pelos elementos da lista, associando cada valor de minhaLista à variável *item*. Isso pode ser entendido como \"para cada *item* em *minhaLista*, faça:\". Desta forma, quando falamos em *item*, estamos falando do elemento da sequência que está sendo estudado no momento. Primeiro, *item* é \"Lucas\" (o primeiro elemento de *minhaLista*).\n",
    "\n",
    "Outra forma de iterar sobre a lista é sobre seus índices, e para isso utiliza-se a função *range*, que você já deve conhecer, a qual gera uma lista de números que correspondem a uma sequência. Observe o exemplo:"
   ]
  },
  {
   "cell_type": "code",
   "execution_count": 12,
   "metadata": {},
   "outputs": [
    {
     "name": "stdout",
     "output_type": "stream",
     "text": [
      "J\n",
      "u\n",
      "l\n",
      "i\n"
     ]
    }
   ],
   "source": [
    "tamanho = len(minhaLista) # Aqui, passamos o tamanho da lista para a variável tamanho\n",
    "\n",
    "for index in range(tamanho):\n",
    "    # index assumirá os valores 0, 1, 2 e 3. Assim, podemos acessar os itens da lista pelos seus índices.\n",
    "    print(minhaLista[index])"
   ]
  },
  {
   "cell_type": "markdown",
   "metadata": {},
   "source": [
    "Os dois exemplos acima produzem exatamente o **mesmo** resultado."
   ]
  }
 ],
 "metadata": {
  "kernelspec": {
   "display_name": "Python 2",
   "language": "python",
   "name": "python2"
  },
  "language_info": {
   "codemirror_mode": {
    "name": "ipython",
    "version": 2
   },
   "file_extension": ".py",
   "mimetype": "text/x-python",
   "name": "python",
   "nbconvert_exporter": "python",
   "pygments_lexer": "ipython2",
   "version": "2.7.15"
  }
 },
 "nbformat": 4,
 "nbformat_minor": 2
}
