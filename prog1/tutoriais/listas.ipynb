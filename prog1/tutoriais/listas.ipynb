{
 "cells": [
  {
   "cell_type": "markdown",
   "metadata": {},
   "source": [
    "# Listas"
   ]
  },
  {
   "cell_type": "markdown",
   "metadata": {},
   "source": [
    "Durante o desenvolvimento de software, independente de plataforma ou linguagem, é comum a necessidade de lidar com estruturas de dados, como listas. Por exemplo, podem ser empregadas para armazenar dados como seus contatos do zap, tarefas, etc.\n",
    "\n",
    "Os itens em uma lista são organizados de forma linear, na qual cada um pode ser acessado a partir de um índice, que representa sua posição na coleção (iniciando em zero).\n",
    "\n",
    "## Estrutura\n",
    "\n",
    "É muito importante entender como os dados são armazenados nessa estrutura, por isso, observe abaixo um exemplo que ilusta esse modelo.\n",
    "\n",
    "| Índices  | Conteúdo      | Tipo     |\n",
    "|:-------: | :-----------: | :------: |\n",
    "| **0**    | \"string 1\"    | string   |\n",
    "| **1**    | \"string 2\"    | string   |\n",
    "| **2**    | 278           | integer  |\n",
    "| **3**    | 1.3           | float    |\n",
    "\n",
    "A tabela acima representa a estrutura de uma lista que possui quatro elementos. Note que o primeiro elemento não está indexado pelo valor `1`, e sim pelo `0`, assim como o último está indexado pelo `3`, não pelo `4`. Ou seja, em uma lista com ***n*** itens, o último deles estará na posição ***n - 1***.\n",
    "\n",
    "As listas em Python, ao contrário de linguagens como Java, podem armazenar diversos elementos de tipos que podem ser diferentes, como foi possível perceber no exemplo anterior, na qual a lista está guardando dois valores do tipo *string*, um valor *inteiro* e outro valor em *ponto flutuante*.\n",
    "\n",
    "## Criação\n",
    "\n",
    "Em Python, uma lista é representada como uma sequência de elementos separados por vírgula e dentro de colchetes [], assim, uma lista vazia, por exemplo, pode ser representada por colchetes sem nenhum conteúdo.\n",
    "\n",
    "Para iniciar uma lista vazia, fazemos:"
   ]
  },
  {
   "cell_type": "code",
   "execution_count": 1,
   "metadata": {},
   "outputs": [
    {
     "name": "stdout",
     "output_type": "stream",
     "text": [
      "[]\n"
     ]
    }
   ],
   "source": [
    "minhaLista = []\n",
    "print(minhaLista)"
   ]
  },
  {
   "cell_type": "markdown",
   "metadata": {},
   "source": [
    "Para inicializar uma lista com alguns elementos, fazemos:"
   ]
  },
  {
   "cell_type": "code",
   "execution_count": 2,
   "metadata": {},
   "outputs": [
    {
     "name": "stdout",
     "output_type": "stream",
     "text": [
      "['Lucas', 'Thayanne', 'Fanny', 'Matheus']\n"
     ]
    }
   ],
   "source": [
    "minhaLista = [\"Lucas\", \"Thayanne\", \"Fanny\", \"Matheus\"]\n",
    "print(minhaLista)"
   ]
  },
  {
   "cell_type": "markdown",
   "metadata": {},
   "source": [
    "Observe abaixo a lista que acabamos de criar de uma maneira mais detalhada:\n",
    "\n",
    "| Posição  | Conteúdo      |\n",
    "|:-------: | :-----------: |\n",
    "| **0**    | \"Lucas\"       |\n",
    "| **1**    | \"Thayanne\"    |\n",
    "| **2**    | \"Fanny\"       |\n",
    "| **3**    | \"Matheus\"     |\n",
    "\n",
    "## Manipulação\n",
    "\n",
    "A lista que acabamos de criar é composta por quatro elementos, cujos índices variam de zero a três. Por exemplo, o primeiro objeto, no índice 0, é a string \"Lucas\". Tendo em mente essa organização interna, podemos acessar cada um dos elementos utilizando a seguinte sintaxe:"
   ]
  },
  {
   "cell_type": "code",
   "execution_count": 3,
   "metadata": {},
   "outputs": [
    {
     "data": {
      "text/plain": [
       "'Lucas'"
      ]
     },
     "execution_count": 3,
     "metadata": {},
     "output_type": "execute_result"
    }
   ],
   "source": [
    "minhaLista[0]"
   ]
  },
  {
   "cell_type": "code",
   "execution_count": 4,
   "metadata": {},
   "outputs": [
    {
     "data": {
      "text/plain": [
       "'Thayanne'"
      ]
     },
     "execution_count": 4,
     "metadata": {},
     "output_type": "execute_result"
    }
   ],
   "source": [
    "minhaLista[1]"
   ]
  },
  {
   "cell_type": "markdown",
   "metadata": {},
   "source": [
    "Nos dois exemplos acima, acessamos as posições 0 e 1, respectivamente, da nossa lista criada mais acima. Os resultados foram \"Lucas\" e \"Thayanne\", pois estes são os elementos correspondentes aos respectivos índices na lista.\n",
    "\n",
    "Podemos, inclusive, alterar o valor de um dos elementos da lista acessando pelo seu valor, como mostrado no exemplo abaixo:"
   ]
  },
  {
   "cell_type": "code",
   "execution_count": 5,
   "metadata": {},
   "outputs": [
    {
     "name": "stdout",
     "output_type": "stream",
     "text": [
      "Antes: Matheus\n",
      "Depois: Julio\n"
     ]
    }
   ],
   "source": [
    "print(\"Antes: \" + minhaLista[3]) # imprimindo o valor antes da alteração\n",
    "\n",
    "minhaLista[3] = \"Julio\"\n",
    "\n",
    "print(\"Depois: \" + minhaLista[3]) # imprimindo o valor depois da alteração"
   ]
  },
  {
   "cell_type": "markdown",
   "metadata": {},
   "source": [
    "**ATENÇÃO**: Se tentar acessar um índice inexistente em uma lista, você obterá um `IndexError: list index out of range`, o que, consequentemente, ocasionará em uma quebra na execução de seu programa."
   ]
  },
  {
   "cell_type": "markdown",
   "metadata": {},
   "source": [
    "### Comprimento de uma lista\n",
    "\n",
    "Para sabermos o comprimento de uma lista, usamos a seguinte sintaxe:"
   ]
  },
  {
   "cell_type": "code",
   "execution_count": 6,
   "metadata": {},
   "outputs": [
    {
     "data": {
      "text/plain": [
       "4"
      ]
     },
     "execution_count": 6,
     "metadata": {},
     "output_type": "execute_result"
    }
   ],
   "source": [
    "len(minhaLista)"
   ]
  },
  {
   "cell_type": "markdown",
   "metadata": {},
   "source": [
    "A função *len*, como mostra o exemplo acima, retorna o valor 4, indicando que o tamanho da lista que criamos nos exemplos anteriores possui 4 elementos."
   ]
  },
  {
   "cell_type": "markdown",
   "metadata": {},
   "source": [
    "### Concatenação e multiplicação\n",
    "\n",
    "É possível, também, concatenar listas por meio do operador `+` e multiplicá-las por **um inteiro *n***, a fim de gerar ***n*** cópias dos itens da sua lista, por meio do operador `*`.\n",
    "\n",
    "**Detalhe**: você já concatenava listas através da concatenação de strings, pois elas nada mais são do que listas de caracteres.\n",
    "\n",
    "Exemplo de concatenação de listas:"
   ]
  },
  {
   "cell_type": "code",
   "execution_count": 7,
   "metadata": {},
   "outputs": [
    {
     "name": "stdout",
     "output_type": "stream",
     "text": [
      "['Lucas', 'Thayanne', 'Fanny', 'Julio', 'Juliano', 'Roberta']\n"
     ]
    }
   ],
   "source": [
    "segundaLista = [\"Juliano\", \"Roberta\"]\n",
    "\n",
    "# imprimindo o valor dessas duas listas concatenadas, sem alterar o conteúdo de nenhuma das duas.\n",
    "print(minhaLista + segundaLista)"
   ]
  },
  {
   "cell_type": "markdown",
   "metadata": {},
   "source": [
    "Exemplo de multiplicação por inteiro de uma lista:"
   ]
  },
  {
   "cell_type": "code",
   "execution_count": 8,
   "metadata": {},
   "outputs": [
    {
     "data": {
      "text/plain": [
       "['Lucas',\n",
       " 'Thayanne',\n",
       " 'Fanny',\n",
       " 'Julio',\n",
       " 'Lucas',\n",
       " 'Thayanne',\n",
       " 'Fanny',\n",
       " 'Julio',\n",
       " 'Lucas',\n",
       " 'Thayanne',\n",
       " 'Fanny',\n",
       " 'Julio']"
      ]
     },
     "execution_count": 8,
     "metadata": {},
     "output_type": "execute_result"
    }
   ],
   "source": [
    "minhaLista * 3 # multiplicando a lista criada nos exemplos por 3"
   ]
  },
  {
   "cell_type": "markdown",
   "metadata": {},
   "source": [
    "### Verificando a existência de elementos em uma lista\n",
    "\n",
    "Em vários casos, é necessário verificar se um elemento está contido dentro de uma lista, para isso Python oferece o operador `in`, que indicará `True` caso o elemento exista dentro da lista, e `False` caso contrário. Por exemplo:"
   ]
  },
  {
   "cell_type": "code",
   "execution_count": 9,
   "metadata": {},
   "outputs": [
    {
     "data": {
      "text/plain": [
       "True"
      ]
     },
     "execution_count": 9,
     "metadata": {},
     "output_type": "execute_result"
    }
   ],
   "source": [
    "\"Lucas\" in minhaLista # A string \"Lucas\" existe na lista."
   ]
  },
  {
   "cell_type": "code",
   "execution_count": 10,
   "metadata": {},
   "outputs": [
    {
     "data": {
      "text/plain": [
       "False"
      ]
     },
     "execution_count": 10,
     "metadata": {},
     "output_type": "execute_result"
    }
   ],
   "source": [
    "\"Guilherme\" in minhaLista # A string \"Guilherme\" não existe na lista."
   ]
  },
  {
   "cell_type": "markdown",
   "metadata": {},
   "source": [
    "**Detalhe**: em alguns momentos das disciplinas de *Programação 1* e *Laboratório de Programação 1* da UFCG, você terá que implementar seu próprio *in* para identificar se um elemento está contido dentro da lista, pois em várias linguagens de programação não existem implementações de algo similar, e isso é uma das várias facilidades que Python oferece. Além do fato de que, como você está aprendendo, é interessante que você entenda como tal funcionalidade funciona por debaixo dos panos."
   ]
  },
  {
   "cell_type": "markdown",
   "metadata": {},
   "source": [
    "### Inserindo e removendo elementos de listas\n",
    "\n",
    "Até agora, vimos operadores e funções que retornam resultados a partir de uma lista, porém não fazem alterações drásticas em sua estrutura. Agora, vamos ver métodos pertencentes ao tipo lista de Python que nos permitem inserir ou remover elementos.\n",
    "\n",
    "O primeiro deles é o `append`, que adiciona um novo elemento ao final da lista. Observe abaixo um exemplo de utilização."
   ]
  },
  {
   "cell_type": "code",
   "execution_count": 11,
   "metadata": {},
   "outputs": [
    {
     "name": "stdout",
     "output_type": "stream",
     "text": [
      "Lista antes da adição de um elemento na última posição: ['Lucas', 'Thayanne', 'Fanny', 'Julio']\n",
      "Lista depois da adição de um elemento na última posição: ['Lucas', 'Thayanne', 'Fanny', 'Julio', 'Marquinhos']\n"
     ]
    }
   ],
   "source": [
    "print(\"Lista antes da adição de um elemento na última posição: \" + str(minhaLista))\n",
    "\n",
    "minhaLista.append(\"Marquinhos\") # Adiciona \"Marquinhos\" na última posição da lista.\n",
    "\n",
    "print(\"Lista depois da adição de um elemento na última posição: \" + str(minhaLista))"
   ]
  },
  {
   "cell_type": "markdown",
   "metadata": {},
   "source": [
    "Um novo elemento foi inserido na nossa lista, a string `\"Marquinhos\"`, e agora o tamanho dela passa a ser 5. O índice correspondente a esse último elemento adicionado agora é 4."
   ]
  },
  {
   "cell_type": "code",
   "execution_count": 12,
   "metadata": {
    "scrolled": true
   },
   "outputs": [
    {
     "name": "stdout",
     "output_type": "stream",
     "text": [
      "Marquinhos\n"
     ]
    }
   ],
   "source": [
    "print(minhaLista[4])"
   ]
  },
  {
   "cell_type": "markdown",
   "metadata": {},
   "source": [
    "Caso você queira fazer a inserção em uma posição específica, é o caso para o método `insert` que, além do elemento a ser inserido, recebe também o índice que ele deve assumir, como mostra o código abaixo:"
   ]
  },
  {
   "cell_type": "code",
   "execution_count": 13,
   "metadata": {},
   "outputs": [
    {
     "name": "stdout",
     "output_type": "stream",
     "text": [
      "Lista antes da adição de um elemento na posição 1: ['Lucas', 'Thayanne', 'Fanny', 'Julio', 'Marquinhos']\n",
      "Lista antes da adição de um elemento na posição 1: ['Lucas', 'Abelardo', 'Thayanne', 'Fanny', 'Julio', 'Marquinhos']\n"
     ]
    }
   ],
   "source": [
    "print(\"Lista antes da adição de um elemento na posição 1: \" + str(minhaLista)) \n",
    "# Imprimindo a lista antes de um novo elemento ser adicionado.\n",
    "\n",
    "minhaLista.insert(1, \"Abelardo\") \n",
    "# Adiciona \"Abelardo\" na posição 1 da lista, e empurra todas as outras uma posição adiante\n",
    "\n",
    "print(\"Lista antes da adição de um elemento na posição 1: \" + str(minhaLista))\n",
    "# Imprimindo a lista depois da inserção do novo elemento."
   ]
  },
  {
   "cell_type": "markdown",
   "metadata": {},
   "source": [
    "O elemento `\"Abelardo\"` foi inserido logo depois de `\"Lucas\"` (posição 0), e agora passa a ocupar a posição 1 da lista. `\"Thayanne\"`, que ocupava essa posição, agora ocupa a posição 2, `\"Fanny\"`, que ocupava a posição 2, passa a ocupar a posição 3, e assim por diante. O tamanho total da lista agora passa a ser 6."
   ]
  },
  {
   "cell_type": "markdown",
   "metadata": {},
   "source": [
    "Para remover elementos de uma lista, pode ser utilizado o método `pop`, que, se não for passado nenhum índice como parâmetro, remove o último item da lista e o retorna como resultado da operação. Caso seja necessário remover um índice específico, basta informá-lo como argumento. Por exemplo:"
   ]
  },
  {
   "cell_type": "code",
   "execution_count": 14,
   "metadata": {},
   "outputs": [
    {
     "name": "stdout",
     "output_type": "stream",
     "text": [
      "Lista antes da remoção do último elemento: ['Lucas', 'Abelardo', 'Thayanne', 'Fanny', 'Julio', 'Marquinhos']\n",
      "\n",
      "Lista depois da remoção do último elemento: ['Lucas', 'Abelardo', 'Thayanne', 'Fanny', 'Julio']\n",
      "Elemento removido: Marquinhos\n",
      "\n",
      "Lista depois da remoção do elemento que ocupava a posição 1: ['Lucas', 'Thayanne', 'Fanny', 'Julio']\n",
      "Elemento removido: Abelardo\n"
     ]
    }
   ],
   "source": [
    "print(\"Lista antes da remoção do último elemento: \" + str(minhaLista) + \"\\n\")\n",
    "\n",
    "elementoRemovido = minhaLista.pop()\n",
    "# Remove o último elemento da lista, e o atribui a variável \"elementoRemovido\"\n",
    "\n",
    "print(\"Lista depois da remoção do último elemento: \" + str(minhaLista))\n",
    "print(\"Elemento removido: \" + elementoRemovido + \"\\n\")\n",
    "\n",
    "elementoRemovido = minhaLista.pop(1)\n",
    "# Remove o elemento da lista que ocupa a posição 1, e o atribui a variável \"elementoRemovido\"\n",
    "\n",
    "print(\"Lista depois da remoção do elemento que ocupava a posição 1: \" + str(minhaLista))\n",
    "print(\"Elemento removido: \" + elementoRemovido)"
   ]
  },
  {
   "cell_type": "markdown",
   "metadata": {},
   "source": [
    "**Detalhe**: em alguns momentos das disciplinas de *Programação 1* e *Laboratório de Programação 1* da UFCG, você terá que implementar suas próprias funções para inserção e remoção de elementos de uma lista, pois isso é considerado pelo professores uma das várias facilidades que Python oferece. Além do fato de que, como você está aprendendo, é interessante que você entenda como tais métodos funcionam por debaixo dos panos."
   ]
  },
  {
   "cell_type": "markdown",
   "metadata": {},
   "source": [
    "## Iteração\n",
    "\n",
    "Como você já sabe, o *for* é uma ferramenta muito poderosa e muito característica de Python. Com ele, podemos \"varrer\" listas, tuplas ou dicionários.\n",
    "\n",
    "Para iterar sobre uma lista, usa-se a sintaxe padrão do for:\n",
    "\n",
    "```python\n",
    "for <var> in <lista>:\n",
    "    <bloco_de_execucao>\n",
    "```\n",
    "\n",
    "Observe o exemplo abaixo:"
   ]
  },
  {
   "cell_type": "code",
   "execution_count": 15,
   "metadata": {},
   "outputs": [
    {
     "name": "stdout",
     "output_type": "stream",
     "text": [
      "Lucas\n",
      "Thayanne\n",
      "Fanny\n",
      "Julio\n"
     ]
    }
   ],
   "source": [
    "for item in minhaLista:\n",
    "    print(item)"
   ]
  },
  {
   "cell_type": "markdown",
   "metadata": {},
   "source": [
    "O for itera pelos elementos da lista, associando cada valor de minhaLista à variável *item*. Isso pode ser entendido como \"para cada *item* em *minhaLista*, faça:\". Desta forma, quando falamos em *item*, estamos falando do elemento da sequência que está sendo estudado no momento. Primeiro, *item* é \"Lucas\" (o primeiro elemento de *minhaLista*).\n",
    "\n",
    "Outra forma de iterar sobre a lista é sobre seus índices, e para isso utiliza-se a função *range*, que você já deve conhecer, a qual gera uma lista de números que correspondem a uma sequência. Observe o exemplo:"
   ]
  },
  {
   "cell_type": "code",
   "execution_count": 16,
   "metadata": {},
   "outputs": [
    {
     "name": "stdout",
     "output_type": "stream",
     "text": [
      "Lucas\n",
      "Thayanne\n",
      "Fanny\n",
      "Julio\n"
     ]
    }
   ],
   "source": [
    "tamanho = len(minhaLista) # Aqui, passamos o tamanho da lista para a variável tamanho\n",
    "\n",
    "for index in range(tamanho):\n",
    "    # index assumirá os valores 0, 1, 2 e 3. Assim, podemos acessar os itens da lista pelos seus índices.\n",
    "    print(minhaLista[index])"
   ]
  },
  {
   "cell_type": "markdown",
   "metadata": {},
   "source": [
    "Os dois exemplos acima produzem exatamente o **mesmo** resultado."
   ]
  }
 ],
 "metadata": {
  "kernelspec": {
   "display_name": "Python 2",
   "language": "python",
   "name": "python2"
  },
  "language_info": {
   "codemirror_mode": {
    "name": "ipython",
    "version": 2
   },
   "file_extension": ".py",
   "mimetype": "text/x-python",
   "name": "python",
   "nbconvert_exporter": "python",
   "pygments_lexer": "ipython2",
   "version": "2.7.15"
  }
 },
 "nbformat": 4,
 "nbformat_minor": 2
}
