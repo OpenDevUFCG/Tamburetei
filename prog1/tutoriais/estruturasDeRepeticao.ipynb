{
 "cells": [
  {
   "cell_type": "markdown",
   "metadata": {},
   "source": [
    "# Estruturas de Repetição"
   ]
  },
  {
   "cell_type": "markdown",
   "metadata": {},
   "source": [
    "Estruturas de repetição, também chamadas de *Laços de Repetição*, são blocos de códigos que se repetem de acordo com uma condição. Apesar de ser uma estrutura que costuma assustar quem está aprendendo a programar, elas são as que tornam nosso código mais legível, simples e compacto."
   ]
  },
  {
   "cell_type": "markdown",
   "metadata": {},
   "source": [
    "## Introdução"
   ]
  },
  {
   "cell_type": "markdown",
   "metadata": {},
   "source": [
    "## While"
   ]
  },
  {
   "attachments": {},
   "cell_type": "markdown",
   "metadata": {},
   "source": [
    "O **while** é parecido com o **if**, a diferença é o número de vezes que ele irá executar o bloco de código que possui.\n",
    "\n",
    "```python\n",
    "while(<condicao>):\n",
    "    <enquanto_a_condicao_for_verdadeira_ele_executa_isso>\n",
    "```\n",
    "\n",
    "O while pode ser entendido como \"Enquanto condição for verdadeira, execute isso...\". Enquanto a condição que ele recebe retornar o valor **true**, ele executará seu pedaço de código, quando for **false**, ele irá passar pra próxima etapa do código."
   ]
  },
  {
   "cell_type": "markdown",
   "metadata": {},
   "source": [
    "## For"
   ]
  },
  {
   "cell_type": "markdown",
   "metadata": {},
   "source": [
    "## Do While"
   ]
  },
  {
   "cell_type": "code",
   "execution_count": null,
   "metadata": {},
   "outputs": [],
   "source": []
  }
 ],
 "metadata": {
  "kernelspec": {
   "display_name": "Python 3",
   "language": "python",
   "name": "python3"
  },
  "language_info": {
   "codemirror_mode": {
    "name": "ipython",
    "version": 3
   },
   "file_extension": ".py",
   "mimetype": "text/x-python",
   "name": "python",
   "nbconvert_exporter": "python",
   "pygments_lexer": "ipython3",
   "version": "3.7.2"
  }
 },
 "nbformat": 4,
 "nbformat_minor": 2
}
