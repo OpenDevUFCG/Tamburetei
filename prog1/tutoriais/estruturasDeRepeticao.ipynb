{
 "cells": [
  {
   "cell_type": "markdown",
   "metadata": {},
   "source": [
    "# Estruturas de Repetição"
   ]
  },
  {
   "cell_type": "markdown",
   "metadata": {},
   "source": [
    "Estruturas de repetição, também chamadas de *Laços de Repetição* ou de *iteração*, são blocos de códigos que se repetem de acordo com uma condição dada. Apesar de ser uma estrutura que costuma assustar quem está aprendendo a programar, elas são importantíssimas para a manutenção da legibilidade, simplicidade e compacticidade do código."
   ]
  },
  {
   "cell_type": "markdown",
   "metadata": {},
   "source": [
    "## Introdução"
   ]
  },
  {
   "cell_type": "markdown",
   "metadata": {},
   "source": [
    "Até o momento, enquanto estava vendo estruturas condicionais, você aprendeu a ***desviar*** o fluxo normal da execução do seu programa a partir de uma condição baseada em operadores lógicos. Essas mesmas operações serão utilizadas, mas desta vez para para realizar *loops*, ou seja, fazer com que um bloco do seu código se repita determinada ou indeterminadamente."
   ]
  },
  {
   "cell_type": "markdown",
   "metadata": {},
   "source": [
    "*Caso sinta a necessidade de relembrar os operadores de comparação, estará disponibilizado abaixo novamente*:\n",
    "\n",
    "| Operador | Significado  | Ex. que retorna verdadeiro  | Ex. que retorna falso  \n",
    "| :------: | :------:| :-----:|:-----:|\n",
    "| **==**| Verifica a igualdade entre dois valores | 2 **==** 2 | 2 **==** 3\n",
    "| **!=**    | Verifica a desigualdade entre dois valores |  2 **!=** 3 | 2 **!=** 2\n",
    "| **>**      | Verifica se o primeiro valor é maior que o segundo |  3 **>** 2 | 2 **>** 3 \n",
    "| **<**      | Verifica se o primeiro valor é menor que o segundo |  2 **<** 3 | 3 **<** 2 \n",
    "| **>=**      | Verifica se o primeiro valor é maior ou igual que o segundo |  2 **>=** 2 | 2 **>=** 3\n",
    "| **<=**      | Verifica se o primeiro valor é menor ou igual que o segundo |  2 **<=** 2 | 3 **<=** 2\n",
    "| **<=**      | Verifica se o primeiro valor é menor ou igual que o segundo |  2 **<=** 2 | 3 **<=** 2\n",
    "| **in**      | Verifica se o primeiro valor está dentro do segundo |  \"a\" **in** \"banana\"| \"o\" **in** \"banana\""
   ]
  },
  {
   "cell_type": "markdown",
   "metadata": {},
   "source": [
    "## While"
   ]
  },
  {
   "cell_type": "markdown",
   "metadata": {},
   "source": [
    "A primeira estrutura de repetição que vamos estudar é o **while**, que possui uma sintaxe parecida com a do **if**, por exemplo, mas ao invés de desviar o fluxo do seu código, ele vai repeti-lo.\n",
    "\n",
    "```python\n",
    "while(<condicao>):\n",
    "    <enquanto_a_condicao_for_verdadeira_ele_executa_isso>\n",
    "```\n",
    "\n",
    "O while pode ser entendido como \"Enquanto condição for verdadeira, execute isso...\". Enquanto a condição que ele recebe retornar o valor **true**, ele executará seu pedaço de código, quando for **false**, ele irá passar pra próxima etapa do código. Exemplo:"
   ]
  },
  {
   "cell_type": "code",
   "execution_count": 1,
   "metadata": {},
   "outputs": [
    {
     "name": "stdout",
     "output_type": "stream",
     "text": [
      "O valor de num ao final da execução do while é: 5\n"
     ]
    }
   ],
   "source": [
    "num = 0\n",
    "\n",
    "while (num < 5):\n",
    "    # equanto a variável \"num\" for menor que 5, o código se repetirá.\n",
    "    num = num + 1\n",
    "\n",
    "print(\"O valor de num ao final da execução do while é: \" + str(num))"
   ]
  },
  {
   "cell_type": "markdown",
   "metadata": {},
   "source": [
    "No exemplo acima, o loop while testa se o valor da variável *num* é menor que 5. Enquanto isso for verdade (o valor inicial é 0), serão executados os procedimentos identados abaixo dos dois pontos (**:**). Neste caso, fazemos uma reatribuição: chamamos de *num* o valor anterior atribuído a ele mesmo somado a 1. Vejamos outro exemplo:"
   ]
  },
  {
   "cell_type": "code",
   "execution_count": 2,
   "metadata": {},
   "outputs": [
    {
     "name": "stdout",
     "output_type": "stream",
     "text": [
      "1 dólares valem 3.74 reais!\n",
      "2 dólares valem 7.48 reais!\n",
      "3 dólares valem 11.22 reais!\n",
      "4 dólares valem 14.96 reais!\n",
      "5 dólares valem 18.70 reais!\n"
     ]
    }
   ],
   "source": [
    "valorEmDolar = 1\n",
    "valorEmReal = 3.74\n",
    "\n",
    "while (valorEmDolar <= 5):\n",
    "    # enquanto a variável \"valorEmDolar\" for menor ou igual a 5, o código se repetirá.\n",
    "    print (\"%i dólares valem %.2f reais!\") % (valorEmDolar, valorEmDolar * valorEmReal)\n",
    "    valorEmDolar += 1"
   ]
  },
  {
   "cell_type": "markdown",
   "metadata": {},
   "source": [
    "O exemplo acima é bem parecido com o anterior, porém agora foi feita uma operação tomando como base o valor dentro do bloco de repetição e com string formatada. No caso, foi feito um cálculo tendo a referência a cotação atual do dólar em reais e, para cada valor da iteração, foi impresso o valor de dólar em reais.\n",
    "\n",
    "**CUIDADO!** Se não for incluída a última linha que \"incrementa\" o valor de \"valorEmDolar\", e o loop testará sempre se `1 < 5`, o que sempre será verdadeiro. O que acarretará em um problema bastante comum quando se está aprendendo a programar: *loops infinitos*."
   ]
  },
  {
   "cell_type": "markdown",
   "metadata": {},
   "source": [
    "## Break"
   ]
  },
  {
   "cell_type": "markdown",
   "metadata": {},
   "source": [
    "O comando *break* serve para abortar um bloco de repetição por completo. Isso permite que você possa fazer loops *while* sem necessariamente definir uma condição, mas simplesmente colocar `True` no lugar, e abortar a operação quando quiser. Por exemplo:"
   ]
  },
  {
   "cell_type": "code",
   "execution_count": 3,
   "metadata": {},
   "outputs": [
    {
     "name": "stdout",
     "output_type": "stream",
     "text": [
      "O valor de num ao final da execução do while é: 5\n"
     ]
    }
   ],
   "source": [
    "num = 0\n",
    "\n",
    "while True:\n",
    "    if (num == 5):\n",
    "        # caso a variável \"num\" seja igual a 5, o laço irá ser quebrado.\n",
    "        break\n",
    "        \n",
    "    num = num + 1\n",
    "\n",
    "print(\"O valor de num ao final da execução do while é: \" + str(num))"
   ]
  },
  {
   "cell_type": "markdown",
   "metadata": {},
   "source": [
    "O exemplo acima produzirá o mesmo resultado do final do primeiro exemplo deste tutorial.\n",
    "\n",
    "*Note que o break quebra apenas um laço while, ou seja, se dois whiles estiverem aninhados, e você utilizar o break no mais interno, apenas este será quebrado, enquanto que o de fora continuará execurando seu fluxo normalmente.*"
   ]
  },
  {
   "cell_type": "markdown",
   "metadata": {},
   "source": [
    "## Continue"
   ]
  },
  {
   "cell_type": "markdown",
   "metadata": {},
   "source": [
    "O comando *continue* também é utilizado para interromper o ciclo de repetição, porém é de extrema importância saber diferenciá-lo do *break*: enquanto o *break* interrompe não só apenas o ciclo atual da execução, mas sim, todo o laço, o *continue* interrompe apenas o ciclo atual, ou seja, se a condição pré-definida no laço continuar sendo verdadeira, as próximas iterações irão acontecer.\n",
    "\n",
    "**Exemplo**: Imagine que você queira imprimir todos os números ímpares no intervalo de 1 a 10 dentro de um loop while. Você pode usar o *continue* para ignorar os números pares dentro do laço."
   ]
  },
  {
   "cell_type": "code",
   "execution_count": 4,
   "metadata": {},
   "outputs": [
    {
     "name": "stdout",
     "output_type": "stream",
     "text": [
      "1\n",
      "3\n",
      "5\n",
      "7\n",
      "9\n"
     ]
    }
   ],
   "source": [
    "num = 0\n",
    "\n",
    "while (num < 10):\n",
    "    num = num + 1\n",
    "    if ((num % 2 == 0)): # checa se o número é par através do resto da divisão por 2\n",
    "        continue\n",
    "    \n",
    "    print(num)"
   ]
  },
  {
   "cell_type": "markdown",
   "metadata": {},
   "source": [
    "Note que não foi necessário a instrução *else* para o *if*, pois o *continue*, assim como o *break*, ignora todo o restante do laço."
   ]
  },
  {
   "cell_type": "markdown",
   "metadata": {},
   "source": [
    "## For"
   ]
  },
  {
   "cell_type": "markdown",
   "metadata": {},
   "source": [
    "A segunda estrutura de repetição que será abordada é o **for**. Em Pyhton, esta estrutura é uma das ferramentas mais poderosas e características da linguagem. Ele nos permite percorrer os itens de uma coleção (por enquanto, vamos tratar apenas de intervalos numéricos) e, para cada um deles, executar o bloco de código declarado no loop. Observe a sintaxe:\n",
    "\n",
    "```python\n",
    "for <var> in <intervalo>:\n",
    "    <bloco_de_execução>\n",
    "```\n",
    "\n",
    "No exemplo abaixo, vamos definir um intervalo de 0 a 5 utilizando a funcão `range` de Python e utilizar o for para iterar sobre este intervalo e imprimir o valor atual. Cada valor dessa sequência gerada será atribuída à variável *x*."
   ]
  },
  {
   "cell_type": "code",
   "execution_count": 5,
   "metadata": {},
   "outputs": [
    {
     "name": "stdout",
     "output_type": "stream",
     "text": [
      "0\n",
      "1\n",
      "2\n",
      "3\n",
      "4\n",
      "5\n"
     ]
    }
   ],
   "source": [
    "for x in range(6):\n",
    "    print(x)"
   ]
  },
  {
   "cell_type": "markdown",
   "metadata": {},
   "source": [
    "*Note que dentro do **range** foi utilizado o número 6, e não 5. Isso se dá porque essa função não inclui o último valor dado, já que inicia sua do 0.*"
   ]
  },
  {
   "cell_type": "markdown",
   "metadata": {},
   "source": [
    "**Dica**: Também é possível utilizar *break* e *continue* em um laço *for*, porém não é recomendado, pois o *for* é, teoricamente, feito para rodar um número determinado de vezes sem interrupções, o que é a principal diferença entre ele e o while."
   ]
  },
  {
   "cell_type": "markdown",
   "metadata": {},
   "source": [
    "## Mais sobre a função *range*"
   ]
  },
  {
   "cell_type": "markdown",
   "metadata": {},
   "source": [
    "A função `range` pode receber 1, 2 ou até 3 parâmetros. Em order, são esses:\n",
    "\n",
    "1. `start` - início da sequência\n",
    "2. `stop` - até onde a sequência deve ir (não é incluído na sequência gerada)\n",
    "3. `step` - intervalo entre os elementos da sequência (passo)\n",
    "\n",
    "Agora vamos ver alguns exemplos de utilização:"
   ]
  },
  {
   "cell_type": "code",
   "execution_count": 6,
   "metadata": {},
   "outputs": [
    {
     "name": "stdout",
     "output_type": "stream",
     "text": [
      "[0, 1, 2, 3, 4]\n"
     ]
    }
   ],
   "source": [
    "print(range(5))"
   ]
  },
  {
   "cell_type": "markdown",
   "metadata": {},
   "source": [
    "No exemplo acima, a função retornou uma sequência contendo 5 elementos, onde o primeiro é o 0 e o último 4."
   ]
  },
  {
   "cell_type": "code",
   "execution_count": 7,
   "metadata": {
    "scrolled": false
   },
   "outputs": [
    {
     "name": "stdout",
     "output_type": "stream",
     "text": [
      "[2, 3, 4, 5, 6]\n"
     ]
    }
   ],
   "source": [
    "print(range(2, 7))"
   ]
  },
  {
   "cell_type": "markdown",
   "metadata": {},
   "source": [
    "No exemplo acima, definimos o parâmetro `start=2` e `stop=7` logo, o primeiro elemento foi o 2, enquanto o último elemento foi o 6, resultando em uma sequência que também contém 5 elementos."
   ]
  },
  {
   "cell_type": "code",
   "execution_count": 8,
   "metadata": {},
   "outputs": [
    {
     "name": "stdout",
     "output_type": "stream",
     "text": [
      "[0, 2, 4, 6, 8, 10]\n"
     ]
    }
   ],
   "source": [
    "print(range(0, 12, 2))"
   ]
  },
  {
   "cell_type": "markdown",
   "metadata": {},
   "source": [
    "No exemplo acima, definimos um intervalo de 2 à 12 e com o `step=2`. Logo, foi impressa uma sequência de 6 elementos, contida no intervalo entre 0 a 12, \"pulando\" de 2 em 2 elementos"
   ]
  },
  {
   "cell_type": "code",
   "execution_count": 9,
   "metadata": {},
   "outputs": [
    {
     "name": "stdout",
     "output_type": "stream",
     "text": [
      "[10, 8, 6, 4, 2, 0]\n"
     ]
    }
   ],
   "source": [
    "print(range(10, -1, -2))"
   ]
  },
  {
   "cell_type": "markdown",
   "metadata": {},
   "source": [
    "Também podemos utilizar um caminho de trás para frente na função *range*. No exemplo acima, definimos um intervalo de 10 até -1 (lembrando que o último elemento do fim do intervalo não é incluso na sequência gerada), e definimos o `step=-2`, ou seja, o resultado final foi uma sequência de 6 elementos, contida no intervalo de 10 a -1, \"decaindo\" de 2 em 2 elementos."
   ]
  }
 ],
 "metadata": {
  "kernelspec": {
   "display_name": "Python 2",
   "language": "python",
   "name": "python2"
  },
  "language_info": {
   "codemirror_mode": {
    "name": "ipython",
    "version": 2
   },
   "file_extension": ".py",
   "mimetype": "text/x-python",
   "name": "python",
   "nbconvert_exporter": "python",
   "pygments_lexer": "ipython2",
   "version": "2.7.15"
  }
 },
 "nbformat": 4,
 "nbformat_minor": 2
}
